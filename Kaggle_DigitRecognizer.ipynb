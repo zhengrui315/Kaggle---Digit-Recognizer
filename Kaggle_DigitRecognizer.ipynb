{
 "cells": [
  {
   "cell_type": "markdown",
   "metadata": {},
   "source": [
    "# Digit Recognizer with CNN\n",
    "https://www.kaggle.com/c/digit-recognizer"
   ]
  },
  {
   "cell_type": "markdown",
   "metadata": {},
   "source": [
    "###### Goal\n",
    "The goal in this competition is to take an image of a handwritten single digit, and determine what that digit is.\n",
    "For every ImageId in the test set, you should predict the correct label."
   ]
  },
  {
   "cell_type": "markdown",
   "metadata": {},
   "source": [
    "###### Metric\n",
    "This competition is evaluated on the categorization accuracy of your predictions (the percentage of images you get correct)."
   ]
  },
  {
   "cell_type": "code",
   "execution_count": 1,
   "metadata": {},
   "outputs": [],
   "source": [
    "import numpy as np\n",
    "import pandas as pd\n",
    "import matplotlib.pyplot as plt\n",
    "import seaborn as sns\n",
    "import os\n",
    "\n",
    "%matplotlib inline"
   ]
  },
  {
   "cell_type": "markdown",
   "metadata": {},
   "source": [
    "### 1. read and visualize the data"
   ]
  },
  {
   "cell_type": "code",
   "execution_count": 4,
   "metadata": {},
   "outputs": [],
   "source": [
    "data_path = './input'\n",
    "filenames = os.listdir(data_path)\n",
    "filenames.sort()"
   ]
  },
  {
   "cell_type": "code",
   "execution_count": 5,
   "metadata": {},
   "outputs": [],
   "source": [
    "test_path = os.path.join(data_path,filenames[0])\n",
    "train_path = os.path.join(data_path,filenames[1])"
   ]
  },
  {
   "cell_type": "code",
   "execution_count": 6,
   "metadata": {},
   "outputs": [
    {
     "name": "stdout",
     "output_type": "stream",
     "text": [
      "the shape of train_raw data is:  (42000, 785)\n"
     ]
    },
    {
     "data": {
      "text/html": [
       "<div>\n",
       "<style scoped>\n",
       "    .dataframe tbody tr th:only-of-type {\n",
       "        vertical-align: middle;\n",
       "    }\n",
       "\n",
       "    .dataframe tbody tr th {\n",
       "        vertical-align: top;\n",
       "    }\n",
       "\n",
       "    .dataframe thead th {\n",
       "        text-align: right;\n",
       "    }\n",
       "</style>\n",
       "<table border=\"1\" class=\"dataframe\">\n",
       "  <thead>\n",
       "    <tr style=\"text-align: right;\">\n",
       "      <th></th>\n",
       "      <th>label</th>\n",
       "      <th>pixel0</th>\n",
       "      <th>pixel1</th>\n",
       "      <th>pixel2</th>\n",
       "      <th>pixel3</th>\n",
       "      <th>pixel4</th>\n",
       "      <th>pixel5</th>\n",
       "      <th>pixel6</th>\n",
       "      <th>pixel7</th>\n",
       "      <th>pixel8</th>\n",
       "      <th>...</th>\n",
       "      <th>pixel774</th>\n",
       "      <th>pixel775</th>\n",
       "      <th>pixel776</th>\n",
       "      <th>pixel777</th>\n",
       "      <th>pixel778</th>\n",
       "      <th>pixel779</th>\n",
       "      <th>pixel780</th>\n",
       "      <th>pixel781</th>\n",
       "      <th>pixel782</th>\n",
       "      <th>pixel783</th>\n",
       "    </tr>\n",
       "  </thead>\n",
       "  <tbody>\n",
       "    <tr>\n",
       "      <th>0</th>\n",
       "      <td>1</td>\n",
       "      <td>0</td>\n",
       "      <td>0</td>\n",
       "      <td>0</td>\n",
       "      <td>0</td>\n",
       "      <td>0</td>\n",
       "      <td>0</td>\n",
       "      <td>0</td>\n",
       "      <td>0</td>\n",
       "      <td>0</td>\n",
       "      <td>...</td>\n",
       "      <td>0</td>\n",
       "      <td>0</td>\n",
       "      <td>0</td>\n",
       "      <td>0</td>\n",
       "      <td>0</td>\n",
       "      <td>0</td>\n",
       "      <td>0</td>\n",
       "      <td>0</td>\n",
       "      <td>0</td>\n",
       "      <td>0</td>\n",
       "    </tr>\n",
       "    <tr>\n",
       "      <th>1</th>\n",
       "      <td>0</td>\n",
       "      <td>0</td>\n",
       "      <td>0</td>\n",
       "      <td>0</td>\n",
       "      <td>0</td>\n",
       "      <td>0</td>\n",
       "      <td>0</td>\n",
       "      <td>0</td>\n",
       "      <td>0</td>\n",
       "      <td>0</td>\n",
       "      <td>...</td>\n",
       "      <td>0</td>\n",
       "      <td>0</td>\n",
       "      <td>0</td>\n",
       "      <td>0</td>\n",
       "      <td>0</td>\n",
       "      <td>0</td>\n",
       "      <td>0</td>\n",
       "      <td>0</td>\n",
       "      <td>0</td>\n",
       "      <td>0</td>\n",
       "    </tr>\n",
       "    <tr>\n",
       "      <th>2</th>\n",
       "      <td>1</td>\n",
       "      <td>0</td>\n",
       "      <td>0</td>\n",
       "      <td>0</td>\n",
       "      <td>0</td>\n",
       "      <td>0</td>\n",
       "      <td>0</td>\n",
       "      <td>0</td>\n",
       "      <td>0</td>\n",
       "      <td>0</td>\n",
       "      <td>...</td>\n",
       "      <td>0</td>\n",
       "      <td>0</td>\n",
       "      <td>0</td>\n",
       "      <td>0</td>\n",
       "      <td>0</td>\n",
       "      <td>0</td>\n",
       "      <td>0</td>\n",
       "      <td>0</td>\n",
       "      <td>0</td>\n",
       "      <td>0</td>\n",
       "    </tr>\n",
       "    <tr>\n",
       "      <th>3</th>\n",
       "      <td>4</td>\n",
       "      <td>0</td>\n",
       "      <td>0</td>\n",
       "      <td>0</td>\n",
       "      <td>0</td>\n",
       "      <td>0</td>\n",
       "      <td>0</td>\n",
       "      <td>0</td>\n",
       "      <td>0</td>\n",
       "      <td>0</td>\n",
       "      <td>...</td>\n",
       "      <td>0</td>\n",
       "      <td>0</td>\n",
       "      <td>0</td>\n",
       "      <td>0</td>\n",
       "      <td>0</td>\n",
       "      <td>0</td>\n",
       "      <td>0</td>\n",
       "      <td>0</td>\n",
       "      <td>0</td>\n",
       "      <td>0</td>\n",
       "    </tr>\n",
       "    <tr>\n",
       "      <th>4</th>\n",
       "      <td>0</td>\n",
       "      <td>0</td>\n",
       "      <td>0</td>\n",
       "      <td>0</td>\n",
       "      <td>0</td>\n",
       "      <td>0</td>\n",
       "      <td>0</td>\n",
       "      <td>0</td>\n",
       "      <td>0</td>\n",
       "      <td>0</td>\n",
       "      <td>...</td>\n",
       "      <td>0</td>\n",
       "      <td>0</td>\n",
       "      <td>0</td>\n",
       "      <td>0</td>\n",
       "      <td>0</td>\n",
       "      <td>0</td>\n",
       "      <td>0</td>\n",
       "      <td>0</td>\n",
       "      <td>0</td>\n",
       "      <td>0</td>\n",
       "    </tr>\n",
       "  </tbody>\n",
       "</table>\n",
       "<p>5 rows × 785 columns</p>\n",
       "</div>"
      ],
      "text/plain": [
       "   label  pixel0  pixel1  pixel2  pixel3  pixel4  pixel5  pixel6  pixel7  \\\n",
       "0      1       0       0       0       0       0       0       0       0   \n",
       "1      0       0       0       0       0       0       0       0       0   \n",
       "2      1       0       0       0       0       0       0       0       0   \n",
       "3      4       0       0       0       0       0       0       0       0   \n",
       "4      0       0       0       0       0       0       0       0       0   \n",
       "\n",
       "   pixel8    ...     pixel774  pixel775  pixel776  pixel777  pixel778  \\\n",
       "0       0    ...            0         0         0         0         0   \n",
       "1       0    ...            0         0         0         0         0   \n",
       "2       0    ...            0         0         0         0         0   \n",
       "3       0    ...            0         0         0         0         0   \n",
       "4       0    ...            0         0         0         0         0   \n",
       "\n",
       "   pixel779  pixel780  pixel781  pixel782  pixel783  \n",
       "0         0         0         0         0         0  \n",
       "1         0         0         0         0         0  \n",
       "2         0         0         0         0         0  \n",
       "3         0         0         0         0         0  \n",
       "4         0         0         0         0         0  \n",
       "\n",
       "[5 rows x 785 columns]"
      ]
     },
     "execution_count": 6,
     "metadata": {},
     "output_type": "execute_result"
    }
   ],
   "source": [
    "\n",
    "train_raw = pd.read_csv(train_path)\n",
    "test_raw = pd.read_csv(test_path)\n",
    "print('the shape of train_raw data is: ',train_raw.shape)\n",
    "train_raw.head()"
   ]
  },
  {
   "cell_type": "code",
   "execution_count": 7,
   "metadata": {},
   "outputs": [
    {
     "data": {
      "text/plain": [
       "count       785\n",
       "unique        1\n",
       "top       False\n",
       "freq        785\n",
       "dtype: object"
      ]
     },
     "execution_count": 7,
     "metadata": {},
     "output_type": "execute_result"
    }
   ],
   "source": [
    "# detect missing data\n",
    "pd.isnull(train_raw).any().describe()"
   ]
  },
  {
   "cell_type": "markdown",
   "metadata": {},
   "source": [
    "There is no missing data. So we are safe to proceed."
   ]
  },
  {
   "cell_type": "code",
   "execution_count": 8,
   "metadata": {},
   "outputs": [],
   "source": [
    "# extract the training data and label\n",
    "trainY = train_raw['label']\n",
    "trainX = train_raw.drop('label',axis=1)\n",
    "\n",
    "testX = test_raw\n",
    "del train_raw # to save some space by deleting old data"
   ]
  },
  {
   "cell_type": "code",
   "execution_count": 9,
   "metadata": {},
   "outputs": [
    {
     "name": "stdout",
     "output_type": "stream",
     "text": [
      "<class 'pandas.core.frame.DataFrame'>\n",
      "RangeIndex: 42000 entries, 0 to 41999\n",
      "Columns: 784 entries, pixel0 to pixel783\n",
      "dtypes: int64(784)\n",
      "memory usage: 251.2 MB\n"
     ]
    }
   ],
   "source": [
    "trainX.info()"
   ]
  },
  {
   "cell_type": "code",
   "execution_count": 10,
   "metadata": {},
   "outputs": [
    {
     "data": {
      "text/plain": [
       "count     42000\n",
       "unique        1\n",
       "top       False\n",
       "freq      42000\n",
       "Name: label, dtype: object"
      ]
     },
     "execution_count": 10,
     "metadata": {},
     "output_type": "execute_result"
    }
   ],
   "source": [
    "pd.isnull(trainY).describe()"
   ]
  },
  {
   "cell_type": "code",
   "execution_count": 11,
   "metadata": {},
   "outputs": [
    {
     "data": {
      "text/plain": [
       "1    4684\n",
       "7    4401\n",
       "3    4351\n",
       "9    4188\n",
       "2    4177\n",
       "6    4137\n",
       "0    4132\n",
       "4    4072\n",
       "8    4063\n",
       "5    3795\n",
       "Name: label, dtype: int64"
      ]
     },
     "execution_count": 11,
     "metadata": {},
     "output_type": "execute_result"
    }
   ],
   "source": [
    "type(trainY.value_counts())\n",
    "trainY.value_counts()"
   ]
  },
  {
   "cell_type": "code",
   "execution_count": 12,
   "metadata": {},
   "outputs": [
    {
     "data": {
      "image/png": "[encoded data removed]",
      "text/plain": [
       "<matplotlib.figure.Figure at 0x7f39c12e6fd0>"
      ]
     },
     "metadata": {},
     "output_type": "display_data"
    }
   ],
   "source": [
    "sns.countplot(trainY);"
   ]
  },
  {
   "cell_type": "code",
   "execution_count": 13,
   "metadata": {},
   "outputs": [
    {
     "name": "stdout",
     "output_type": "stream",
     "text": [
      "the type of train_X is <class 'pandas.core.frame.DataFrame'>, the type of train_Y is <class 'pandas.core.series.Series'>\n",
      "the shape of train_X is (2000, 784), the shape of train_Y is (2000,)\n"
     ]
    }
   ],
   "source": [
    "# to test our model for later, we will first choose a small fraction of the data\n",
    "train_X = trainX.iloc[:2000,:]\n",
    "train_Y = trainY.iloc[:2000,]\n",
    "\n",
    "\n",
    "print('the type of train_X is {}, the type of train_Y is {}'.format(type(train_X),type(train_Y)))\n",
    "print('the shape of train_X is {}, the shape of train_Y is {}'.format(train_X.shape,train_Y.shape))"
   ]
  },
  {
   "cell_type": "code",
   "execution_count": 14,
   "metadata": {},
   "outputs": [
    {
     "data": {
      "text/html": [
       "<div>\n",
       "<style scoped>\n",
       "    .dataframe tbody tr th:only-of-type {\n",
       "        vertical-align: middle;\n",
       "    }\n",
       "\n",
       "    .dataframe tbody tr th {\n",
       "        vertical-align: top;\n",
       "    }\n",
       "\n",
       "    .dataframe thead th {\n",
       "        text-align: right;\n",
       "    }\n",
       "</style>\n",
       "<table border=\"1\" class=\"dataframe\">\n",
       "  <thead>\n",
       "    <tr style=\"text-align: right;\">\n",
       "      <th></th>\n",
       "      <th>pixel0</th>\n",
       "      <th>pixel1</th>\n",
       "      <th>pixel2</th>\n",
       "      <th>pixel3</th>\n",
       "      <th>pixel4</th>\n",
       "      <th>pixel5</th>\n",
       "      <th>pixel6</th>\n",
       "      <th>pixel7</th>\n",
       "      <th>pixel8</th>\n",
       "      <th>pixel9</th>\n",
       "      <th>...</th>\n",
       "      <th>pixel774</th>\n",
       "      <th>pixel775</th>\n",
       "      <th>pixel776</th>\n",
       "      <th>pixel777</th>\n",
       "      <th>pixel778</th>\n",
       "      <th>pixel779</th>\n",
       "      <th>pixel780</th>\n",
       "      <th>pixel781</th>\n",
       "      <th>pixel782</th>\n",
       "      <th>pixel783</th>\n",
       "    </tr>\n",
       "  </thead>\n",
       "  <tbody>\n",
       "    <tr>\n",
       "      <th>1995</th>\n",
       "      <td>0</td>\n",
       "      <td>0</td>\n",
       "      <td>0</td>\n",
       "      <td>0</td>\n",
       "      <td>0</td>\n",
       "      <td>0</td>\n",
       "      <td>0</td>\n",
       "      <td>0</td>\n",
       "      <td>0</td>\n",
       "      <td>0</td>\n",
       "      <td>...</td>\n",
       "      <td>0</td>\n",
       "      <td>0</td>\n",
       "      <td>0</td>\n",
       "      <td>0</td>\n",
       "      <td>0</td>\n",
       "      <td>0</td>\n",
       "      <td>0</td>\n",
       "      <td>0</td>\n",
       "      <td>0</td>\n",
       "      <td>0</td>\n",
       "    </tr>\n",
       "    <tr>\n",
       "      <th>1996</th>\n",
       "      <td>0</td>\n",
       "      <td>0</td>\n",
       "      <td>0</td>\n",
       "      <td>0</td>\n",
       "      <td>0</td>\n",
       "      <td>0</td>\n",
       "      <td>0</td>\n",
       "      <td>0</td>\n",
       "      <td>0</td>\n",
       "      <td>0</td>\n",
       "      <td>...</td>\n",
       "      <td>0</td>\n",
       "      <td>0</td>\n",
       "      <td>0</td>\n",
       "      <td>0</td>\n",
       "      <td>0</td>\n",
       "      <td>0</td>\n",
       "      <td>0</td>\n",
       "      <td>0</td>\n",
       "      <td>0</td>\n",
       "      <td>0</td>\n",
       "    </tr>\n",
       "    <tr>\n",
       "      <th>1997</th>\n",
       "      <td>0</td>\n",
       "      <td>0</td>\n",
       "      <td>0</td>\n",
       "      <td>0</td>\n",
       "      <td>0</td>\n",
       "      <td>0</td>\n",
       "      <td>0</td>\n",
       "      <td>0</td>\n",
       "      <td>0</td>\n",
       "      <td>0</td>\n",
       "      <td>...</td>\n",
       "      <td>0</td>\n",
       "      <td>0</td>\n",
       "      <td>0</td>\n",
       "      <td>0</td>\n",
       "      <td>0</td>\n",
       "      <td>0</td>\n",
       "      <td>0</td>\n",
       "      <td>0</td>\n",
       "      <td>0</td>\n",
       "      <td>0</td>\n",
       "    </tr>\n",
       "    <tr>\n",
       "      <th>1998</th>\n",
       "      <td>0</td>\n",
       "      <td>0</td>\n",
       "      <td>0</td>\n",
       "      <td>0</td>\n",
       "      <td>0</td>\n",
       "      <td>0</td>\n",
       "      <td>0</td>\n",
       "      <td>0</td>\n",
       "      <td>0</td>\n",
       "      <td>0</td>\n",
       "      <td>...</td>\n",
       "      <td>0</td>\n",
       "      <td>0</td>\n",
       "      <td>0</td>\n",
       "      <td>0</td>\n",
       "      <td>0</td>\n",
       "      <td>0</td>\n",
       "      <td>0</td>\n",
       "      <td>0</td>\n",
       "      <td>0</td>\n",
       "      <td>0</td>\n",
       "    </tr>\n",
       "    <tr>\n",
       "      <th>1999</th>\n",
       "      <td>0</td>\n",
       "      <td>0</td>\n",
       "      <td>0</td>\n",
       "      <td>0</td>\n",
       "      <td>0</td>\n",
       "      <td>0</td>\n",
       "      <td>0</td>\n",
       "      <td>0</td>\n",
       "      <td>0</td>\n",
       "      <td>0</td>\n",
       "      <td>...</td>\n",
       "      <td>0</td>\n",
       "      <td>0</td>\n",
       "      <td>0</td>\n",
       "      <td>0</td>\n",
       "      <td>0</td>\n",
       "      <td>0</td>\n",
       "      <td>0</td>\n",
       "      <td>0</td>\n",
       "      <td>0</td>\n",
       "      <td>0</td>\n",
       "    </tr>\n",
       "  </tbody>\n",
       "</table>\n",
       "<p>5 rows × 784 columns</p>\n",
       "</div>"
      ],
      "text/plain": [
       "      pixel0  pixel1  pixel2  pixel3  pixel4  pixel5  pixel6  pixel7  pixel8  \\\n",
       "1995       0       0       0       0       0       0       0       0       0   \n",
       "1996       0       0       0       0       0       0       0       0       0   \n",
       "1997       0       0       0       0       0       0       0       0       0   \n",
       "1998       0       0       0       0       0       0       0       0       0   \n",
       "1999       0       0       0       0       0       0       0       0       0   \n",
       "\n",
       "      pixel9    ...     pixel774  pixel775  pixel776  pixel777  pixel778  \\\n",
       "1995       0    ...            0         0         0         0         0   \n",
       "1996       0    ...            0         0         0         0         0   \n",
       "1997       0    ...            0         0         0         0         0   \n",
       "1998       0    ...            0         0         0         0         0   \n",
       "1999       0    ...            0         0         0         0         0   \n",
       "\n",
       "      pixel779  pixel780  pixel781  pixel782  pixel783  \n",
       "1995         0         0         0         0         0  \n",
       "1996         0         0         0         0         0  \n",
       "1997         0         0         0         0         0  \n",
       "1998         0         0         0         0         0  \n",
       "1999         0         0         0         0         0  \n",
       "\n",
       "[5 rows x 784 columns]"
      ]
     },
     "execution_count": 14,
     "metadata": {},
     "output_type": "execute_result"
    }
   ],
   "source": [
    "train_X.tail()"
   ]
  },
  {
   "cell_type": "code",
   "execution_count": 15,
   "metadata": {},
   "outputs": [
    {
     "data": {
      "image/png": "[encoded data removed]",
      "text/plain": [
       "<matplotlib.figure.Figure at 0x7f39c17cd6d8>"
      ]
     },
     "metadata": {},
     "output_type": "display_data"
    }
   ],
   "source": [
    "# randomly visualize an image\n",
    "imgId = 1987\n",
    "plt.figure(figsize=(8,4))\n",
    "plt.imshow(train_X.loc[imgId].values.reshape((28,28)))\n",
    "plt.title('expect {}'.format(train_Y.loc[imgId]))\n",
    "plt.show()\n"
   ]
  },
  {
   "cell_type": "code",
   "execution_count": 16,
   "metadata": {},
   "outputs": [
    {
     "data": {
      "image/png": "[encoded data removed]",
      "text/plain": [
       "<matplotlib.figure.Figure at 0x7f39c1794e48>"
      ]
     },
     "metadata": {},
     "output_type": "display_data"
    }
   ],
   "source": [
    "for i in range(8):\n",
    "    plt.subplot(2,4,i+1)\n",
    "    plt.imshow(train_X.loc[i].values.reshape((28,28)), cmap=plt.get_cmap('gray'))\n",
    "    plt.title('expect {}'.format(train_Y.loc[i]))\n",
    "plt.show()"
   ]
  },
  {
   "cell_type": "markdown",
   "metadata": {},
   "source": [
    "### 2. Data Preprocessing"
   ]
  },
  {
   "cell_type": "markdown",
   "metadata": {},
   "source": [
    "To feed the data into CNN, we need to \n",
    "* rescale the pixel values [0,255] into the [0,1] interval, because neural networks prefer to deal with small input values\n",
    "*  reshape the training data into the shape of (height,width,depth/channel). For the label data, we can use one-hot encoding (categorical encoding) to convert into 10-dim vectors. \n",
    "*  split the available data into training set and validation set to evaluate our model before submission\n",
    "* "
   ]
  },
  {
   "cell_type": "code",
   "execution_count": 17,
   "metadata": {},
   "outputs": [
    {
     "name": "stderr",
     "output_type": "stream",
     "text": [
      "/usr/local/lib/python3.5/dist-packages/h5py/__init__.py:36: FutureWarning: Conversion of the second argument of issubdtype from `float` to `np.floating` is deprecated. In future, it will be treated as `np.float64 == np.dtype(float).type`.\n",
      "  from ._conv import register_converters as _register_converters\n",
      "Using TensorFlow backend.\n"
     ]
    }
   ],
   "source": [
    "from keras.utils import to_categorical\n",
    "\n",
    "from sklearn.model_selection import train_test_split, cross_val_score\n",
    "from sklearn.metrics import accuracy_score, confusion_matrix"
   ]
  },
  {
   "cell_type": "code",
   "execution_count": 18,
   "metadata": {},
   "outputs": [],
   "source": [
    "import cv2"
   ]
  },
  {
   "cell_type": "code",
   "execution_count": 19,
   "metadata": {},
   "outputs": [
    {
     "name": "stdout",
     "output_type": "stream",
     "text": [
      "the type of train_X is <class 'pandas.core.frame.DataFrame'>, the type of train_Y is <class 'pandas.core.series.Series'>\n",
      "the shape of train_X is (42000, 784), the shape of train_Y is (42000,)\n"
     ]
    }
   ],
   "source": [
    "#choose the small data set to play around\n",
    "# train_X = trainX.iloc[:2000,:]\n",
    "# train_Y = trainY.iloc[:2000,]\n",
    "\n",
    "#choose the whole dataset\n",
    "train_X = trainX\n",
    "train_Y = trainY\n",
    "\n",
    "test_X = testX\n",
    "\n",
    "print('the type of train_X is {}, the type of train_Y is {}'.format(type(train_X),type(train_Y)))\n",
    "print('the shape of train_X is {}, the shape of train_Y is {}'.format(train_X.shape,train_Y.shape))"
   ]
  },
  {
   "cell_type": "code",
   "execution_count": 20,
   "metadata": {},
   "outputs": [
    {
     "name": "stdout",
     "output_type": "stream",
     "text": [
      "train_X becomes <class 'numpy.ndarray'>, train_Y becomes <class 'numpy.ndarray'>\n",
      "the shape of train_X is (42000, 28, 28, 1), the shape of train_Y is (42000, 10)\n"
     ]
    }
   ],
   "source": [
    "# normalization, reshape and one-hot encoding\n",
    "\n",
    "train_X = train_X.astype('float32')/255\n",
    "test_X = test_X.astype('float32')/255\n",
    "\n",
    "train_X = train_X.values.reshape((-1,28,28,1))\n",
    "test_X = test_X.values.reshape((-1,28,28,1))\n",
    "\n",
    "train_Y = to_categorical(train_Y) \n",
    "\n",
    "\n",
    "#train_X, train_Y become numpy array, rather than pandas data frame\n",
    "print('train_X becomes {}, train_Y becomes {}'.format(type(train_X),type(train_Y)))\n",
    "print('the shape of train_X is {}, the shape of train_Y is {}'.format(train_X.shape,train_Y.shape))"
   ]
  },
  {
   "cell_type": "code",
   "execution_count": 69,
   "metadata": {},
   "outputs": [
    {
     "name": "stdout",
     "output_type": "stream",
     "text": [
      "the shape of X_train is (37800, 28, 28, 1), the shape of Y_train is (37800, 10)\n"
     ]
    }
   ],
   "source": [
    "# Split the train and the validation set for the fitting\n",
    "\n",
    "#random_seed = 42 \n",
    "# to keep the same randomnization\n",
    "\n",
    "X_train, X_val, Y_train, Y_val = train_test_split(train_X, train_Y, test_size = 0.1, random_state=None, shuffle=True) \n",
    "# shuffle = True is the default value\n",
    "\n",
    "print('the shape of X_train is {}, the shape of Y_train is {}'.format(X_train.shape,Y_train.shape))"
   ]
  },
  {
   "cell_type": "markdown",
   "metadata": {},
   "source": [
    "### 3. CNN model"
   ]
  },
  {
   "cell_type": "markdown",
   "metadata": {},
   "source": [
    "Now the input data X_train is of shape (28,28,1). I will try two copies of the series Conv2D -> MaxPooling2D, then the output is feed into a fully connected layer with softmax activation function for this single label, multi-class problem."
   ]
  },
  {
   "cell_type": "code",
   "execution_count": 22,
   "metadata": {},
   "outputs": [],
   "source": [
    "from keras.layers import Conv2D, MaxPooling2D, Dense, Flatten, Dropout, BatchNormalization\n",
    "from keras.models import Sequential\n",
    "from keras.callbacks import ReduceLROnPlateau\n",
    "\n",
    "from keras import optimizers"
   ]
  },
  {
   "cell_type": "code",
   "execution_count": 23,
   "metadata": {},
   "outputs": [
    {
     "name": "stdout",
     "output_type": "stream",
     "text": [
      "_________________________________________________________________\n",
      "Layer (type)                 Output Shape              Param #   \n",
      "=================================================================\n",
      "conv2d_1 (Conv2D)            (None, 28, 28, 32)        320       \n",
      "_________________________________________________________________\n",
      "conv2d_2 (Conv2D)            (None, 26, 26, 64)        18496     \n",
      "_________________________________________________________________\n",
      "max_pooling2d_1 (MaxPooling2 (None, 13, 13, 64)        0         \n",
      "_________________________________________________________________\n",
      "batch_normalization_1 (Batch (None, 13, 13, 64)        256       \n",
      "_________________________________________________________________\n",
      "conv2d_3 (Conv2D)            (None, 13, 13, 64)        36928     \n",
      "_________________________________________________________________\n",
      "max_pooling2d_2 (MaxPooling2 (None, 6, 6, 64)          0         \n",
      "_________________________________________________________________\n",
      "batch_normalization_2 (Batch (None, 6, 6, 64)          256       \n",
      "_________________________________________________________________\n",
      "conv2d_4 (Conv2D)            (None, 6, 6, 128)         73856     \n",
      "_________________________________________________________________\n",
      "flatten_1 (Flatten)          (None, 4608)              0         \n",
      "_________________________________________________________________\n",
      "dense_1 (Dense)              (None, 256)               1179904   \n",
      "_________________________________________________________________\n",
      "dropout_1 (Dropout)          (None, 256)               0         \n",
      "_________________________________________________________________\n",
      "dense_2 (Dense)              (None, 10)                2570      \n",
      "=================================================================\n",
      "Total params: 1,312,586\n",
      "Trainable params: 1,312,330\n",
      "Non-trainable params: 256\n",
      "_________________________________________________________________\n"
     ]
    }
   ],
   "source": [
    "model = Sequential()\n",
    "\n",
    "model.add(Conv2D(filters = 32,kernel_size = (3,3),activation='relu', padding = 'Same',input_shape=(28,28,1)))\n",
    "model.add(Conv2D(filters = 64,kernel_size = (3,3),activation='relu'))\n",
    "model.add(MaxPooling2D(pool_size=(2,2)))\n",
    "model.add(BatchNormalization())\n",
    "model.add(Conv2D(filters = 64,kernel_size = (3,3),activation='relu', padding = 'Same'))\n",
    "model.add(MaxPooling2D(pool_size=(2,2)))\n",
    "#model.add(Dropout(0.3))\n",
    "\n",
    "model.add(BatchNormalization())\n",
    "model.add(Conv2D(filters = 128,kernel_size = (3,3),activation='relu', padding = 'Same'))\n",
    "#model.add(MaxPooling2D(pool_size=(2,2)))\n",
    "#model.add(Dropout(0.4))\n",
    "#model.add(BatchNormalization())\n",
    "\n",
    "#model.add(Conv2D(filters = 128,kernel_size = (3,3),activation='relu', padding = 'Same'))\n",
    "#model.add(Dropout(0.4))\n",
    "\n",
    "model.add(Flatten())\n",
    "#model.add(Dense(128,activation='relu'))\n",
    "#model.add(Dropout(0.2))\n",
    "model.add(Dense(256,activation='relu'))\n",
    "model.add(Dropout(0.25))\n",
    "model.add(Dense(10,activation='softmax'))\n",
    "          \n",
    "model.summary()"
   ]
  },
  {
   "cell_type": "code",
   "execution_count": 24,
   "metadata": {},
   "outputs": [],
   "source": [
    "#optimizer = optimizers.RMSprop(lr=0.002,rho=0.9, epsilon=1.0e-8, decay=0.004)\n",
    "optimizer = optimizers.Adam(lr=0.001, beta_1=0.9, beta_2=0.999, epsilon=None, decay=0., amsgrad=False)\n",
    "model.compile(optimizer=optimizer, loss='categorical_crossentropy', metrics=['accuracy'])"
   ]
  },
  {
   "cell_type": "markdown",
   "metadata": {},
   "source": [
    "I tried both RMSprop and Adam optimizers and found that Adam works better!"
   ]
  },
  {
   "cell_type": "code",
   "execution_count": 25,
   "metadata": {},
   "outputs": [
    {
     "name": "stdout",
     "output_type": "stream",
     "text": [
      "Train on 37800 samples, validate on 4200 samples\n",
      "Epoch 1/10\n",
      "37800/37800 [==============================] - 152s 4ms/step - loss: 0.1785 - acc: 0.9453 - val_loss: 0.0467 - val_acc: 0.9852\n",
      "Epoch 2/10\n",
      "37800/37800 [==============================] - 152s 4ms/step - loss: 0.0449 - acc: 0.9861 - val_loss: 0.0380 - val_acc: 0.9867\n",
      "Epoch 3/10\n",
      "37800/37800 [==============================] - 152s 4ms/step - loss: 0.0303 - acc: 0.9904 - val_loss: 0.0365 - val_acc: 0.9876\n",
      "Epoch 4/10\n",
      "37800/37800 [==============================] - 153s 4ms/step - loss: 0.0250 - acc: 0.9921 - val_loss: 0.0352 - val_acc: 0.9902\n",
      "Epoch 5/10\n",
      "37800/37800 [==============================] - 153s 4ms/step - loss: 0.0213 - acc: 0.9932 - val_loss: 0.0263 - val_acc: 0.9926\n",
      "Epoch 6/10\n",
      "37800/37800 [==============================] - 153s 4ms/step - loss: 0.0172 - acc: 0.9943 - val_loss: 0.0329 - val_acc: 0.9900\n",
      "Epoch 7/10\n",
      "37800/37800 [==============================] - 152s 4ms/step - loss: 0.0149 - acc: 0.9947 - val_loss: 0.0246 - val_acc: 0.9936\n",
      "Epoch 8/10\n",
      "37800/37800 [==============================] - 153s 4ms/step - loss: 0.0113 - acc: 0.9962 - val_loss: 0.0333 - val_acc: 0.9924\n",
      "Epoch 9/10\n",
      "37800/37800 [==============================] - 152s 4ms/step - loss: 0.0102 - acc: 0.9965 - val_loss: 0.0408 - val_acc: 0.9910\n",
      "Epoch 10/10\n",
      "37800/37800 [==============================] - 153s 4ms/step - loss: 0.0038 - acc: 0.9986 - val_loss: 0.0251 - val_acc: 0.9926\n"
     ]
    }
   ],
   "source": [
    "batch_size = 256\n",
    "epochs = 10\n",
    "reduce_lr = ReduceLROnPlateau(monitor='val_loss', factor=0.5,\n",
    "                              patience=1, min_lr=0.00005)\n",
    "\n",
    "history = model.fit(X_train,Y_train, epochs=epochs, batch_size=batch_size,validation_data=(X_val,Y_val),callbacks = [reduce_lr])"
   ]
  },
  {
   "cell_type": "code",
   "execution_count": 32,
   "metadata": {},
   "outputs": [
    {
     "data": {
      "image/png": "[encoded data removed]",
      "text/plain": [
       "<matplotlib.figure.Figure at 0x7f390ea8f860>"
      ]
     },
     "metadata": {},
     "output_type": "display_data"
    }
   ],
   "source": [
    "# check the progress with epochs\n",
    "loss = history.history['loss']\n",
    "val_loss = history.history['val_loss']\n",
    "\n",
    "acc = history.history['acc']\n",
    "val_acc = history.history['val_acc']\n",
    "\n",
    "\n",
    "epochs_tick = range(1,len(loss)+1)\n",
    "plt.figure(figsize=(16,5))\n",
    "\n",
    "# plot the learning curves for the loss function \n",
    "plt.subplot(1, 2, 1)\n",
    "plt.plot(epochs_tick,loss,'bo-',label='Training loss')\n",
    "plt.plot(epochs_tick,val_loss,'rd-',label='Validation loss')\n",
    "plt.title('Training and validation loss')\n",
    "plt.xlabel('Epochs')\n",
    "plt.ylabel('Loss')\n",
    "plt.legend(bbox_to_anchor=(1, 0.5))\n",
    "\n",
    "# plot the learning curves for accuracy\n",
    "plt.subplot(1, 2, 2)\n",
    "plt.plot(epochs_tick,acc,'bo-',label='Training accuracy')\n",
    "plt.plot(epochs_tick,val_acc,'rd-',label='Validation accuracy')\n",
    "plt.title('Training and validation accuracy')\n",
    "plt.xlabel('Epochs')\n",
    "plt.ylabel('Accuracy')\n",
    "plt.legend(bbox_to_anchor=(1, 0.5))\n",
    "plt.show()"
   ]
  },
  {
   "cell_type": "markdown",
   "metadata": {},
   "source": [
    "When the Dropout layers are commented out, the training accuracy can reach 99.8%, but there is obvious overfitting.\n",
    "To increase the training accuracy and avoid overfitting at the same time, I will try data augmentation in the next section."
   ]
  },
  {
   "cell_type": "markdown",
   "metadata": {},
   "source": [
    "### 4. Data augmentation"
   ]
  },
  {
   "cell_type": "code",
   "execution_count": 33,
   "metadata": {},
   "outputs": [],
   "source": [
    "from keras.preprocessing.image import ImageDataGenerator\n",
    "from keras.callbacks import LearningRateScheduler\n",
    "\n",
    "train_datagen = ImageDataGenerator(\n",
    "    rotation_range=10,\n",
    "    width_shift_range=0.2,\n",
    "    height_shift_range=0.2,\n",
    "    shear_range=0.,\n",
    "    zoom_range=0.,\n",
    "    horizontal_flip = False,\n",
    "    vertical_flip = False,\n",
    "    fill_mode ='nearest')\n",
    "\n",
    "\n",
    "#datagen.fit(X_train)  #Only required if featurewise_center or featurewise_std_normalization or zca_whitening."
   ]
  },
  {
   "cell_type": "markdown",
   "metadata": {},
   "source": [
    "https://www.tensorflow.org/api_docs/python/tf/keras/callbacks/ReduceLROnPlateau\n",
    "\n",
    "Reduce learning rate when a metric has stopped improving.\n",
    "\n",
    "Models often benefit from reducing the learning rate by a factor of 2-10 once learning stagnates. This callback monitors a quantity and if no improvement is seen for a 'patience' number of epochs, the learning rate is reduced.\n",
    "\n",
    "reduce_lr = ReduceLROnPlateau(monitor='val_loss', factor=0.2,\n",
    "                              patience=5, min_lr=0.001)\n",
    "                              \n",
    "model.fit(X_train, Y_train, callbacks=[reduce_lr])"
   ]
  },
  {
   "cell_type": "code",
   "execution_count": 34,
   "metadata": {
    "scrolled": true
   },
   "outputs": [
    {
     "name": "stdout",
     "output_type": "stream",
     "text": [
      "Epoch 1/20\n",
      "147/147 [==============================] - 152s 1s/step - loss: 0.2824 - acc: 0.9220 - val_loss: 0.1449 - val_acc: 0.9598\n",
      "Epoch 2/20\n",
      "147/147 [==============================] - 153s 1s/step - loss: 0.0947 - acc: 0.9716 - val_loss: 0.0427 - val_acc: 0.9852\n",
      "Epoch 3/20\n",
      "147/147 [==============================] - 154s 1s/step - loss: 0.0744 - acc: 0.9780 - val_loss: 0.0280 - val_acc: 0.9926\n",
      "Epoch 4/20\n",
      "147/147 [==============================] - 153s 1s/step - loss: 0.0634 - acc: 0.9805 - val_loss: 0.0292 - val_acc: 0.9905\n",
      "Epoch 5/20\n",
      "147/147 [==============================] - 153s 1s/step - loss: 0.0566 - acc: 0.9834 - val_loss: 0.0225 - val_acc: 0.9931\n",
      "Epoch 6/20\n",
      "147/147 [==============================] - 153s 1s/step - loss: 0.0505 - acc: 0.9856 - val_loss: 0.0231 - val_acc: 0.9919\n",
      "Epoch 7/20\n",
      "147/147 [==============================] - 153s 1s/step - loss: 0.0458 - acc: 0.9863 - val_loss: 0.0247 - val_acc: 0.9933\n",
      "Epoch 8/20\n",
      "147/147 [==============================] - 153s 1s/step - loss: 0.0440 - acc: 0.9869 - val_loss: 0.0294 - val_acc: 0.9895\n",
      "Epoch 9/20\n",
      "147/147 [==============================] - 153s 1s/step - loss: 0.0378 - acc: 0.9882 - val_loss: 0.0336 - val_acc: 0.9912\n",
      "Epoch 10/20\n",
      "147/147 [==============================] - 154s 1s/step - loss: 0.0387 - acc: 0.9886 - val_loss: 0.0170 - val_acc: 0.9950\n",
      "Epoch 11/20\n",
      "147/147 [==============================] - 153s 1s/step - loss: 0.0307 - acc: 0.9904 - val_loss: 0.0170 - val_acc: 0.9952\n",
      "Epoch 12/20\n",
      "147/147 [==============================] - 154s 1s/step - loss: 0.0327 - acc: 0.9904 - val_loss: 0.0184 - val_acc: 0.9950\n",
      "Epoch 13/20\n",
      "147/147 [==============================] - 154s 1s/step - loss: 0.0296 - acc: 0.9904 - val_loss: 0.0194 - val_acc: 0.9943\n",
      "Epoch 14/20\n",
      "147/147 [==============================] - 154s 1s/step - loss: 0.0284 - acc: 0.9909 - val_loss: 0.0164 - val_acc: 0.9940\n",
      "Epoch 15/20\n",
      "147/147 [==============================] - 154s 1s/step - loss: 0.0269 - acc: 0.9917 - val_loss: 0.0184 - val_acc: 0.9943\n",
      "Epoch 16/20\n",
      "147/147 [==============================] - 153s 1s/step - loss: 0.0286 - acc: 0.9915 - val_loss: 0.0191 - val_acc: 0.9945\n",
      "Epoch 17/20\n",
      "147/147 [==============================] - 153s 1s/step - loss: 0.0264 - acc: 0.9925 - val_loss: 0.0165 - val_acc: 0.9950\n",
      "Epoch 18/20\n",
      "147/147 [==============================] - 154s 1s/step - loss: 0.0276 - acc: 0.9915 - val_loss: 0.0170 - val_acc: 0.9948\n",
      "Epoch 19/20\n",
      "147/147 [==============================] - 154s 1s/step - loss: 0.0245 - acc: 0.9926 - val_loss: 0.0164 - val_acc: 0.9943\n",
      "Epoch 20/20\n",
      "147/147 [==============================] - 154s 1s/step - loss: 0.0246 - acc: 0.9927 - val_loss: 0.0179 - val_acc: 0.9943\n"
     ]
    }
   ],
   "source": [
    "batch_size = 256\n",
    "epochs = 20\n",
    "\n",
    "train_generator = train_datagen.flow(X_train,Y_train,batch_size=batch_size)\n",
    "#validation_generator = val_datagen.flow(X_val,Y_val,batch_size=batch_size)\n",
    "# we don't do image augmentation for test set\n",
    "\n",
    "#annealer = LearningRateScheduler(lambda x: 2e-3 * 0.99 ** x)\n",
    "reduce_lr = ReduceLROnPlateau(monitor='val_acc', factor=0.5,\n",
    "                              patience=1, min_lr=0.00005)\n",
    "\n",
    "history = model.fit_generator(\n",
    "    train_generator,\n",
    "    steps_per_epoch = X_train.shape[0] // batch_size,\n",
    "    epochs=epochs,\n",
    "#    samples_per_epoch = len(X_train),\n",
    "    validation_data = (X_val,Y_val),\n",
    "    callbacks=[reduce_lr])\n"
   ]
  },
  {
   "cell_type": "code",
   "execution_count": 37,
   "metadata": {},
   "outputs": [
    {
     "data": {
      "image/png": "[encoded data removed]",
      "text/plain": [
       "<matplotlib.figure.Figure at 0x7f3981def160>"
      ]
     },
     "metadata": {},
     "output_type": "display_data"
    }
   ],
   "source": [
    "# check the progress with epochs\n",
    "loss = history.history['loss']\n",
    "val_loss = history.history['val_loss']\n",
    "\n",
    "acc = history.history['acc']\n",
    "val_acc = history.history['val_acc']\n",
    "\n",
    "\n",
    "epochs_tick = range(1,len(loss)+1)\n",
    "plt.figure(figsize=(16,5))\n",
    "\n",
    "# plot the learning curves for the loss function \n",
    "plt.subplot(1, 2, 1)\n",
    "plt.plot(epochs_tick,loss,'bo-',label='Training loss')\n",
    "plt.plot(epochs_tick,val_loss,'rd-',label='Validation loss')\n",
    "plt.title('Training and validation loss')\n",
    "plt.xlabel('Epochs')\n",
    "plt.ylabel('Loss')\n",
    "plt.legend(bbox_to_anchor=(1, 0.5))\n",
    "\n",
    "# plot the learning curves for accuracy\n",
    "plt.subplot(1, 2, 2)\n",
    "plt.plot(epochs_tick,acc,'bo-',label='Training accuracy')\n",
    "plt.plot(epochs_tick,val_acc,'rd-',label='Validation accuracy')\n",
    "plt.title('Training and validation accuracy')\n",
    "plt.xlabel('Epochs')\n",
    "plt.ylabel('Accuracy')\n",
    "plt.legend(bbox_to_anchor=(1, 0.5))\n",
    "plt.show()"
   ]
  },
  {
   "cell_type": "code",
   "execution_count": 77,
   "metadata": {},
   "outputs": [],
   "source": [
    "# save our model for later convenience\n",
    "model.save('digitrecognizer_cnn_aug_v2.h5')"
   ]
  },
  {
   "cell_type": "code",
   "execution_count": 75,
   "metadata": {},
   "outputs": [
    {
     "name": "stdout",
     "output_type": "stream",
     "text": [
      "Epoch 1/1\n",
      "147/147 [==============================] - 153s 1s/step - loss: 0.0251 - acc: 0.9921 - val_loss: 0.0071 - val_acc: 0.9976\n"
     ]
    }
   ],
   "source": [
    "batch_size = 256\n",
    "epochs = 1\n",
    "\n",
    "train_generator = train_datagen.flow(X_train,Y_train,batch_size=batch_size)\n",
    "#validation_generator = val_datagen.flow(X_val,Y_val,batch_size=batch_size)\n",
    "# we don't do image augmentation for test set\n",
    "\n",
    "#annealer = LearningRateScheduler(lambda x: 2e-3 * 0.99 ** x)\n",
    "reduce_lr = ReduceLROnPlateau(monitor='val_acc', factor=0.5,\n",
    "                              patience=1, min_lr=0.00005)\n",
    "\n",
    "history = model.fit_generator(\n",
    "    train_generator,\n",
    "    steps_per_epoch = X_train.shape[0] // batch_size,\n",
    "    epochs=epochs,\n",
    "#    samples_per_epoch = len(X_train),\n",
    "    validation_data = (X_val,Y_val),\n",
    "    callbacks=[reduce_lr])\n"
   ]
  },
  {
   "cell_type": "code",
   "execution_count": 76,
   "metadata": {},
   "outputs": [
    {
     "name": "stdout",
     "output_type": "stream",
     "text": [
      "Epoch 1/5\n",
      "147/147 [==============================] - 155s 1s/step - loss: 0.0254 - acc: 0.9925 - val_loss: 0.0084 - val_acc: 0.9967\n",
      "Epoch 2/5\n",
      "147/147 [==============================] - 157s 1s/step - loss: 0.0280 - acc: 0.9917 - val_loss: 0.0076 - val_acc: 0.9969\n",
      "Epoch 3/5\n",
      "147/147 [==============================] - 161s 1s/step - loss: 0.0234 - acc: 0.9931 - val_loss: 0.0066 - val_acc: 0.9976\n",
      "Epoch 4/5\n",
      "147/147 [==============================] - 160s 1s/step - loss: 0.0254 - acc: 0.9927 - val_loss: 0.0064 - val_acc: 0.9976\n",
      "Epoch 5/5\n",
      "147/147 [==============================] - 160s 1s/step - loss: 0.0237 - acc: 0.9926 - val_loss: 0.0063 - val_acc: 0.9981\n"
     ]
    }
   ],
   "source": [
    "batch_size = 256\n",
    "epochs = 5\n",
    "\n",
    "train_generator = train_datagen.flow(X_train,Y_train,batch_size=batch_size)\n",
    "#validation_generator = val_datagen.flow(X_val,Y_val,batch_size=batch_size)\n",
    "# we don't do image augmentation for test set\n",
    "\n",
    "#annealer = LearningRateScheduler(lambda x: 2e-3 * 0.99 ** x)\n",
    "reduce_lr = ReduceLROnPlateau(monitor='val_acc', factor=0.5,\n",
    "                              patience=1, min_lr=0.00005)\n",
    "\n",
    "history = model.fit_generator(\n",
    "    train_generator,\n",
    "    steps_per_epoch = X_train.shape[0] // batch_size,\n",
    "    epochs=epochs,\n",
    "#    samples_per_epoch = len(X_train),\n",
    "    validation_data = (X_val,Y_val),\n",
    "    callbacks=[reduce_lr])"
   ]
  },
  {
   "cell_type": "markdown",
   "metadata": {},
   "source": [
    "### 5. Result analysis"
   ]
  },
  {
   "cell_type": "code",
   "execution_count": 78,
   "metadata": {},
   "outputs": [],
   "source": [
    "from sklearn.model_selection import train_test_split, cross_val_score \n",
    "from sklearn import metrics\n",
    "\n",
    "pred = model.predict(X_val)\n",
    "pred = np.argmax(pred,axis=1)\n",
    "Yval = np.argmax(Y_val,axis=1)"
   ]
  },
  {
   "cell_type": "code",
   "execution_count": 80,
   "metadata": {},
   "outputs": [
    {
     "data": {
      "text/plain": [
       "0.9980952380952381"
      ]
     },
     "execution_count": 80,
     "metadata": {},
     "output_type": "execute_result"
    }
   ],
   "source": [
    "metrics.accuracy_score(Yval, pred)"
   ]
  },
  {
   "cell_type": "code",
   "execution_count": 81,
   "metadata": {},
   "outputs": [
    {
     "data": {
      "text/plain": [
       "array([[413,   0,   0,   0,   0,   0,   0,   0,   0,   0],\n",
       "       [  0, 478,   1,   0,   0,   0,   0,   1,   0,   0],\n",
       "       [  0,   0, 389,   0,   0,   0,   0,   0,   0,   0],\n",
       "       [  0,   0,   0, 451,   0,   0,   0,   0,   0,   0],\n",
       "       [  0,   1,   0,   0, 372,   0,   0,   0,   0,   0],\n",
       "       [  0,   0,   0,   0,   0, 380,   1,   0,   0,   0],\n",
       "       [  0,   0,   0,   0,   0,   1, 427,   0,   0,   0],\n",
       "       [  0,   0,   1,   0,   0,   0,   0, 413,   0,   0],\n",
       "       [  0,   0,   0,   0,   0,   1,   0,   0, 437,   0],\n",
       "       [  0,   0,   0,   1,   0,   0,   0,   0,   0, 432]])"
      ]
     },
     "execution_count": 81,
     "metadata": {},
     "output_type": "execute_result"
    }
   ],
   "source": [
    "metrics.confusion_matrix(Yval, pred)"
   ]
  },
  {
   "cell_type": "markdown",
   "metadata": {},
   "source": [
    "### 6. Submission"
   ]
  },
  {
   "cell_type": "code",
   "execution_count": 82,
   "metadata": {},
   "outputs": [],
   "source": [
    "pred = model.predict(test_X)"
   ]
  },
  {
   "cell_type": "code",
   "execution_count": 83,
   "metadata": {},
   "outputs": [],
   "source": [
    "# convert the one-hot vector back into a number\n",
    "pred = np.argmax(pred,axis=1)"
   ]
  },
  {
   "cell_type": "code",
   "execution_count": 84,
   "metadata": {},
   "outputs": [],
   "source": [
    "df = pd.DataFrame({\"ImageId\": range(1,pred.shape[0]+1),\"Label\": pred})\n",
    "df.to_csv('submission_cnn_adam_v2.csv',header=True,index=False)"
   ]
  },
  {
   "cell_type": "markdown",
   "metadata": {
    "collapsed": true
   },
   "source": [
    "After submitting to Kaggle, the accuracy reaches 99.542%"
   ]
  }
 ],
 "metadata": {
  "kernelspec": {
   "display_name": "Python 3",
   "language": "python",
   "name": "python3"
  },
  "language_info": {
   "codemirror_mode": {
    "name": "ipython",
    "version": 3
   },
   "file_extension": ".py",
   "mimetype": "text/x-python",
   "name": "python",
   "nbconvert_exporter": "python",
   "pygments_lexer": "ipython3",
   "version": "3.5.2"
  }
 },
 "nbformat": 4,
 "nbformat_minor": 2
}
